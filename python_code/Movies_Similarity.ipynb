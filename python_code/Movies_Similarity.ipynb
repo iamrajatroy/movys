{
 "cells": [
  {
   "cell_type": "markdown",
   "metadata": {},
   "source": [
    "# Initial Import"
   ]
  },
  {
   "cell_type": "code",
   "execution_count": 1,
   "metadata": {},
   "outputs": [],
   "source": [
    "import pandas as pd\n",
    "import numpy as np\n",
    "\n",
    "from string import punctuation\n",
    "from nltk.corpus import stopwords\n",
    "\n",
    "from sklearn.feature_extraction.text import TfidfVectorizer\n",
    "from sklearn.metrics.pairwise import sigmoid_kernel, linear_kernel, cosine_similarity"
   ]
  },
  {
   "cell_type": "code",
   "execution_count": 2,
   "metadata": {},
   "outputs": [
    {
     "name": "stderr",
     "output_type": "stream",
     "text": [
      "[nltk_data] Downloading package stopwords to\n",
      "[nltk_data]     C:\\Users\\rajat\\AppData\\Roaming\\nltk_data...\n",
      "[nltk_data]   Package stopwords is already up-to-date!\n"
     ]
    },
    {
     "data": {
      "text/plain": [
       "True"
      ]
     },
     "execution_count": 2,
     "metadata": {},
     "output_type": "execute_result"
    }
   ],
   "source": [
    "import nltk\n",
    "nltk.download('stopwords')"
   ]
  },
  {
   "cell_type": "markdown",
   "metadata": {},
   "source": [
    "# Data Import"
   ]
  },
  {
   "cell_type": "code",
   "execution_count": 8,
   "metadata": {},
   "outputs": [],
   "source": [
    "df = pd.read_excel('./tmdb_movies_may_20_clean.xlsx')"
   ]
  },
  {
   "cell_type": "code",
   "execution_count": 9,
   "metadata": {},
   "outputs": [
    {
     "data": {
      "text/html": [
       "<div>\n",
       "<style scoped>\n",
       "    .dataframe tbody tr th:only-of-type {\n",
       "        vertical-align: middle;\n",
       "    }\n",
       "\n",
       "    .dataframe tbody tr th {\n",
       "        vertical-align: top;\n",
       "    }\n",
       "\n",
       "    .dataframe thead th {\n",
       "        text-align: right;\n",
       "    }\n",
       "</style>\n",
       "<table border=\"1\" class=\"dataframe\">\n",
       "  <thead>\n",
       "    <tr style=\"text-align: right;\">\n",
       "      <th></th>\n",
       "      <th>id</th>\n",
       "      <th>original_title</th>\n",
       "      <th>popularity</th>\n",
       "      <th>adult</th>\n",
       "      <th>overview</th>\n",
       "      <th>releaseDate</th>\n",
       "      <th>poster_path</th>\n",
       "      <th>genres</th>\n",
       "    </tr>\n",
       "  </thead>\n",
       "  <tbody>\n",
       "    <tr>\n",
       "      <th>0</th>\n",
       "      <td>419704.0</td>\n",
       "      <td>Ad Astra</td>\n",
       "      <td>517.169</td>\n",
       "      <td>0.0</td>\n",
       "      <td>The near future  a time when both hope and har...</td>\n",
       "      <td>2019-09-17</td>\n",
       "      <td>https://image.tmdb.org/t/p/w185_and_h278_bestv...</td>\n",
       "      <td>Drama Science Fiction</td>\n",
       "    </tr>\n",
       "    <tr>\n",
       "      <th>1</th>\n",
       "      <td>338762.0</td>\n",
       "      <td>Bloodshot</td>\n",
       "      <td>183.316</td>\n",
       "      <td>0.0</td>\n",
       "      <td>After he and his wife are murdered  marine Ray...</td>\n",
       "      <td>2020-03-05</td>\n",
       "      <td>https://image.tmdb.org/t/p/w185_and_h278_bestv...</td>\n",
       "      <td>Action Science Fiction</td>\n",
       "    </tr>\n",
       "    <tr>\n",
       "      <th>2</th>\n",
       "      <td>385103.0</td>\n",
       "      <td>Scoob!</td>\n",
       "      <td>144.906</td>\n",
       "      <td>0.0</td>\n",
       "      <td>In Scooby-Doo’s greatest adventure yet  see th...</td>\n",
       "      <td>2020-05-15</td>\n",
       "      <td>https://image.tmdb.org/t/p/w185_and_h278_bestv...</td>\n",
       "      <td>Adventure Animation Comedy Mystery Family</td>\n",
       "    </tr>\n",
       "    <tr>\n",
       "      <th>3</th>\n",
       "      <td>576156.0</td>\n",
       "      <td>The Lovebirds</td>\n",
       "      <td>118.500</td>\n",
       "      <td>0.0</td>\n",
       "      <td>A couple experiences a defining moment in thei...</td>\n",
       "      <td>2020-05-22</td>\n",
       "      <td>https://image.tmdb.org/t/p/w185_and_h278_bestv...</td>\n",
       "      <td>Action Comedy Romance</td>\n",
       "    </tr>\n",
       "    <tr>\n",
       "      <th>4</th>\n",
       "      <td>686245.0</td>\n",
       "      <td>Survive the Night</td>\n",
       "      <td>97.197</td>\n",
       "      <td>0.0</td>\n",
       "      <td>A disgraced doctor and his family are held hos...</td>\n",
       "      <td>2020-05-22</td>\n",
       "      <td>https://image.tmdb.org/t/p/w185_and_h278_bestv...</td>\n",
       "      <td>Action Thriller</td>\n",
       "    </tr>\n",
       "    <tr>\n",
       "      <th>...</th>\n",
       "      <td>...</td>\n",
       "      <td>...</td>\n",
       "      <td>...</td>\n",
       "      <td>...</td>\n",
       "      <td>...</td>\n",
       "      <td>...</td>\n",
       "      <td>...</td>\n",
       "      <td>...</td>\n",
       "    </tr>\n",
       "    <tr>\n",
       "      <th>9995</th>\n",
       "      <td>165904.0</td>\n",
       "      <td>?????? 26</td>\n",
       "      <td>10.198</td>\n",
       "      <td>0.0</td>\n",
       "      <td>In the early 1980s in India  a group of con ar...</td>\n",
       "      <td>2013-02-07</td>\n",
       "      <td>https://image.tmdb.org/t/p/w185_and_h278_bestv...</td>\n",
       "      <td>Crime Drama Thriller</td>\n",
       "    </tr>\n",
       "    <tr>\n",
       "      <th>9996</th>\n",
       "      <td>14940.0</td>\n",
       "      <td>Gigantic</td>\n",
       "      <td>6.556</td>\n",
       "      <td>0.0</td>\n",
       "      <td>Young mattress salesman Brian decides to adopt...</td>\n",
       "      <td>2008-09-09</td>\n",
       "      <td>https://image.tmdb.org/t/p/w185_and_h278_bestv...</td>\n",
       "      <td>Comedy Romance</td>\n",
       "    </tr>\n",
       "    <tr>\n",
       "      <th>9997</th>\n",
       "      <td>11112.0</td>\n",
       "      <td>The Associate</td>\n",
       "      <td>8.194</td>\n",
       "      <td>0.0</td>\n",
       "      <td>Laurel Ayres is a businesswoman trying to make...</td>\n",
       "      <td>1996-10-25</td>\n",
       "      <td>https://image.tmdb.org/t/p/w185_and_h278_bestv...</td>\n",
       "      <td>Comedy</td>\n",
       "    </tr>\n",
       "    <tr>\n",
       "      <th>9998</th>\n",
       "      <td>11689.0</td>\n",
       "      <td>I due superpiedi quasi piatti</td>\n",
       "      <td>8.943</td>\n",
       "      <td>0.0</td>\n",
       "      <td>An attempted robbery turns to be an unexpected...</td>\n",
       "      <td>1977-04-01</td>\n",
       "      <td>https://image.tmdb.org/t/p/w185_and_h278_bestv...</td>\n",
       "      <td>Action Comedy</td>\n",
       "    </tr>\n",
       "    <tr>\n",
       "      <th>9999</th>\n",
       "      <td>9011.0</td>\n",
       "      <td>The Prophecy 3: The Ascent</td>\n",
       "      <td>7.984</td>\n",
       "      <td>0.0</td>\n",
       "      <td>The conclusion to The Prophecy Trilogy. Once a...</td>\n",
       "      <td>2000-03-14</td>\n",
       "      <td>https://image.tmdb.org/t/p/w185_and_h278_bestv...</td>\n",
       "      <td>Fantasy Horror Thriller</td>\n",
       "    </tr>\n",
       "  </tbody>\n",
       "</table>\n",
       "<p>10000 rows × 8 columns</p>\n",
       "</div>"
      ],
      "text/plain": [
       "            id                 original_title  popularity  adult  \\\n",
       "0     419704.0                       Ad Astra     517.169    0.0   \n",
       "1     338762.0                      Bloodshot     183.316    0.0   \n",
       "2     385103.0                         Scoob!     144.906    0.0   \n",
       "3     576156.0                  The Lovebirds     118.500    0.0   \n",
       "4     686245.0              Survive the Night      97.197    0.0   \n",
       "...        ...                            ...         ...    ...   \n",
       "9995  165904.0                      ?????? 26      10.198    0.0   \n",
       "9996   14940.0                       Gigantic       6.556    0.0   \n",
       "9997   11112.0                  The Associate       8.194    0.0   \n",
       "9998   11689.0  I due superpiedi quasi piatti       8.943    0.0   \n",
       "9999    9011.0     The Prophecy 3: The Ascent       7.984    0.0   \n",
       "\n",
       "                                               overview releaseDate  \\\n",
       "0     The near future  a time when both hope and har...  2019-09-17   \n",
       "1     After he and his wife are murdered  marine Ray...  2020-03-05   \n",
       "2     In Scooby-Doo’s greatest adventure yet  see th...  2020-05-15   \n",
       "3     A couple experiences a defining moment in thei...  2020-05-22   \n",
       "4     A disgraced doctor and his family are held hos...  2020-05-22   \n",
       "...                                                 ...         ...   \n",
       "9995  In the early 1980s in India  a group of con ar...  2013-02-07   \n",
       "9996  Young mattress salesman Brian decides to adopt...  2008-09-09   \n",
       "9997  Laurel Ayres is a businesswoman trying to make...  1996-10-25   \n",
       "9998  An attempted robbery turns to be an unexpected...  1977-04-01   \n",
       "9999  The conclusion to The Prophecy Trilogy. Once a...  2000-03-14   \n",
       "\n",
       "                                            poster_path  \\\n",
       "0     https://image.tmdb.org/t/p/w185_and_h278_bestv...   \n",
       "1     https://image.tmdb.org/t/p/w185_and_h278_bestv...   \n",
       "2     https://image.tmdb.org/t/p/w185_and_h278_bestv...   \n",
       "3     https://image.tmdb.org/t/p/w185_and_h278_bestv...   \n",
       "4     https://image.tmdb.org/t/p/w185_and_h278_bestv...   \n",
       "...                                                 ...   \n",
       "9995  https://image.tmdb.org/t/p/w185_and_h278_bestv...   \n",
       "9996  https://image.tmdb.org/t/p/w185_and_h278_bestv...   \n",
       "9997  https://image.tmdb.org/t/p/w185_and_h278_bestv...   \n",
       "9998  https://image.tmdb.org/t/p/w185_and_h278_bestv...   \n",
       "9999  https://image.tmdb.org/t/p/w185_and_h278_bestv...   \n",
       "\n",
       "                                         genres  \n",
       "0                         Drama Science Fiction  \n",
       "1                        Action Science Fiction  \n",
       "2     Adventure Animation Comedy Mystery Family  \n",
       "3                         Action Comedy Romance  \n",
       "4                               Action Thriller  \n",
       "...                                         ...  \n",
       "9995                       Crime Drama Thriller  \n",
       "9996                             Comedy Romance  \n",
       "9997                                     Comedy  \n",
       "9998                              Action Comedy  \n",
       "9999                    Fantasy Horror Thriller  \n",
       "\n",
       "[10000 rows x 8 columns]"
      ]
     },
     "execution_count": 9,
     "metadata": {},
     "output_type": "execute_result"
    }
   ],
   "source": [
    "df"
   ]
  },
  {
   "cell_type": "code",
   "execution_count": 10,
   "metadata": {},
   "outputs": [
    {
     "data": {
      "text/plain": [
       "Index(['id', 'original_title', 'popularity', 'adult', 'overview',\n",
       "       'releaseDate', 'poster_path', 'genres'],\n",
       "      dtype='object')"
      ]
     },
     "execution_count": 10,
     "metadata": {},
     "output_type": "execute_result"
    }
   ],
   "source": [
    "df.columns"
   ]
  },
  {
   "cell_type": "markdown",
   "metadata": {},
   "source": [
    "# Selecting features"
   ]
  },
  {
   "cell_type": "code",
   "execution_count": 11,
   "metadata": {},
   "outputs": [],
   "source": [
    "df_sel = df[['original_title', 'overview', 'genres']]"
   ]
  },
  {
   "cell_type": "code",
   "execution_count": 12,
   "metadata": {},
   "outputs": [
    {
     "data": {
      "text/html": [
       "<div>\n",
       "<style scoped>\n",
       "    .dataframe tbody tr th:only-of-type {\n",
       "        vertical-align: middle;\n",
       "    }\n",
       "\n",
       "    .dataframe tbody tr th {\n",
       "        vertical-align: top;\n",
       "    }\n",
       "\n",
       "    .dataframe thead th {\n",
       "        text-align: right;\n",
       "    }\n",
       "</style>\n",
       "<table border=\"1\" class=\"dataframe\">\n",
       "  <thead>\n",
       "    <tr style=\"text-align: right;\">\n",
       "      <th></th>\n",
       "      <th>original_title</th>\n",
       "      <th>overview</th>\n",
       "      <th>genres</th>\n",
       "    </tr>\n",
       "  </thead>\n",
       "  <tbody>\n",
       "    <tr>\n",
       "      <th>0</th>\n",
       "      <td>Ad Astra</td>\n",
       "      <td>The near future  a time when both hope and har...</td>\n",
       "      <td>Drama Science Fiction</td>\n",
       "    </tr>\n",
       "    <tr>\n",
       "      <th>1</th>\n",
       "      <td>Bloodshot</td>\n",
       "      <td>After he and his wife are murdered  marine Ray...</td>\n",
       "      <td>Action Science Fiction</td>\n",
       "    </tr>\n",
       "    <tr>\n",
       "      <th>2</th>\n",
       "      <td>Scoob!</td>\n",
       "      <td>In Scooby-Doo’s greatest adventure yet  see th...</td>\n",
       "      <td>Adventure Animation Comedy Mystery Family</td>\n",
       "    </tr>\n",
       "    <tr>\n",
       "      <th>3</th>\n",
       "      <td>The Lovebirds</td>\n",
       "      <td>A couple experiences a defining moment in thei...</td>\n",
       "      <td>Action Comedy Romance</td>\n",
       "    </tr>\n",
       "    <tr>\n",
       "      <th>4</th>\n",
       "      <td>Survive the Night</td>\n",
       "      <td>A disgraced doctor and his family are held hos...</td>\n",
       "      <td>Action Thriller</td>\n",
       "    </tr>\n",
       "    <tr>\n",
       "      <th>...</th>\n",
       "      <td>...</td>\n",
       "      <td>...</td>\n",
       "      <td>...</td>\n",
       "    </tr>\n",
       "    <tr>\n",
       "      <th>9995</th>\n",
       "      <td>?????? 26</td>\n",
       "      <td>In the early 1980s in India  a group of con ar...</td>\n",
       "      <td>Crime Drama Thriller</td>\n",
       "    </tr>\n",
       "    <tr>\n",
       "      <th>9996</th>\n",
       "      <td>Gigantic</td>\n",
       "      <td>Young mattress salesman Brian decides to adopt...</td>\n",
       "      <td>Comedy Romance</td>\n",
       "    </tr>\n",
       "    <tr>\n",
       "      <th>9997</th>\n",
       "      <td>The Associate</td>\n",
       "      <td>Laurel Ayres is a businesswoman trying to make...</td>\n",
       "      <td>Comedy</td>\n",
       "    </tr>\n",
       "    <tr>\n",
       "      <th>9998</th>\n",
       "      <td>I due superpiedi quasi piatti</td>\n",
       "      <td>An attempted robbery turns to be an unexpected...</td>\n",
       "      <td>Action Comedy</td>\n",
       "    </tr>\n",
       "    <tr>\n",
       "      <th>9999</th>\n",
       "      <td>The Prophecy 3: The Ascent</td>\n",
       "      <td>The conclusion to The Prophecy Trilogy. Once a...</td>\n",
       "      <td>Fantasy Horror Thriller</td>\n",
       "    </tr>\n",
       "  </tbody>\n",
       "</table>\n",
       "<p>10000 rows × 3 columns</p>\n",
       "</div>"
      ],
      "text/plain": [
       "                     original_title  \\\n",
       "0                          Ad Astra   \n",
       "1                         Bloodshot   \n",
       "2                            Scoob!   \n",
       "3                     The Lovebirds   \n",
       "4                 Survive the Night   \n",
       "...                             ...   \n",
       "9995                      ?????? 26   \n",
       "9996                       Gigantic   \n",
       "9997                  The Associate   \n",
       "9998  I due superpiedi quasi piatti   \n",
       "9999     The Prophecy 3: The Ascent   \n",
       "\n",
       "                                               overview  \\\n",
       "0     The near future  a time when both hope and har...   \n",
       "1     After he and his wife are murdered  marine Ray...   \n",
       "2     In Scooby-Doo’s greatest adventure yet  see th...   \n",
       "3     A couple experiences a defining moment in thei...   \n",
       "4     A disgraced doctor and his family are held hos...   \n",
       "...                                                 ...   \n",
       "9995  In the early 1980s in India  a group of con ar...   \n",
       "9996  Young mattress salesman Brian decides to adopt...   \n",
       "9997  Laurel Ayres is a businesswoman trying to make...   \n",
       "9998  An attempted robbery turns to be an unexpected...   \n",
       "9999  The conclusion to The Prophecy Trilogy. Once a...   \n",
       "\n",
       "                                         genres  \n",
       "0                         Drama Science Fiction  \n",
       "1                        Action Science Fiction  \n",
       "2     Adventure Animation Comedy Mystery Family  \n",
       "3                         Action Comedy Romance  \n",
       "4                               Action Thriller  \n",
       "...                                         ...  \n",
       "9995                       Crime Drama Thriller  \n",
       "9996                             Comedy Romance  \n",
       "9997                                     Comedy  \n",
       "9998                              Action Comedy  \n",
       "9999                    Fantasy Horror Thriller  \n",
       "\n",
       "[10000 rows x 3 columns]"
      ]
     },
     "execution_count": 12,
     "metadata": {},
     "output_type": "execute_result"
    }
   ],
   "source": [
    "df_sel"
   ]
  },
  {
   "cell_type": "code",
   "execution_count": 13,
   "metadata": {},
   "outputs": [
    {
     "name": "stderr",
     "output_type": "stream",
     "text": [
      "D:\\Anaconda3\\lib\\site-packages\\ipykernel_launcher.py:1: SettingWithCopyWarning: \n",
      "A value is trying to be set on a copy of a slice from a DataFrame.\n",
      "Try using .loc[row_indexer,col_indexer] = value instead\n",
      "\n",
      "See the caveats in the documentation: https://pandas.pydata.org/pandas-docs/stable/user_guide/indexing.html#returning-a-view-versus-a-copy\n",
      "  \"\"\"Entry point for launching an IPython kernel.\n"
     ]
    }
   ],
   "source": [
    "df_sel['text'] = df_sel['overview'] + ' ' + df_sel['genres']"
   ]
  },
  {
   "cell_type": "code",
   "execution_count": 14,
   "metadata": {},
   "outputs": [
    {
     "data": {
      "text/html": [
       "<div>\n",
       "<style scoped>\n",
       "    .dataframe tbody tr th:only-of-type {\n",
       "        vertical-align: middle;\n",
       "    }\n",
       "\n",
       "    .dataframe tbody tr th {\n",
       "        vertical-align: top;\n",
       "    }\n",
       "\n",
       "    .dataframe thead th {\n",
       "        text-align: right;\n",
       "    }\n",
       "</style>\n",
       "<table border=\"1\" class=\"dataframe\">\n",
       "  <thead>\n",
       "    <tr style=\"text-align: right;\">\n",
       "      <th></th>\n",
       "      <th>original_title</th>\n",
       "      <th>overview</th>\n",
       "      <th>genres</th>\n",
       "      <th>text</th>\n",
       "    </tr>\n",
       "  </thead>\n",
       "  <tbody>\n",
       "    <tr>\n",
       "      <th>0</th>\n",
       "      <td>Ad Astra</td>\n",
       "      <td>The near future  a time when both hope and har...</td>\n",
       "      <td>Drama Science Fiction</td>\n",
       "      <td>The near future  a time when both hope and har...</td>\n",
       "    </tr>\n",
       "    <tr>\n",
       "      <th>1</th>\n",
       "      <td>Bloodshot</td>\n",
       "      <td>After he and his wife are murdered  marine Ray...</td>\n",
       "      <td>Action Science Fiction</td>\n",
       "      <td>After he and his wife are murdered  marine Ray...</td>\n",
       "    </tr>\n",
       "    <tr>\n",
       "      <th>2</th>\n",
       "      <td>Scoob!</td>\n",
       "      <td>In Scooby-Doo’s greatest adventure yet  see th...</td>\n",
       "      <td>Adventure Animation Comedy Mystery Family</td>\n",
       "      <td>In Scooby-Doo’s greatest adventure yet  see th...</td>\n",
       "    </tr>\n",
       "    <tr>\n",
       "      <th>3</th>\n",
       "      <td>The Lovebirds</td>\n",
       "      <td>A couple experiences a defining moment in thei...</td>\n",
       "      <td>Action Comedy Romance</td>\n",
       "      <td>A couple experiences a defining moment in thei...</td>\n",
       "    </tr>\n",
       "    <tr>\n",
       "      <th>4</th>\n",
       "      <td>Survive the Night</td>\n",
       "      <td>A disgraced doctor and his family are held hos...</td>\n",
       "      <td>Action Thriller</td>\n",
       "      <td>A disgraced doctor and his family are held hos...</td>\n",
       "    </tr>\n",
       "    <tr>\n",
       "      <th>...</th>\n",
       "      <td>...</td>\n",
       "      <td>...</td>\n",
       "      <td>...</td>\n",
       "      <td>...</td>\n",
       "    </tr>\n",
       "    <tr>\n",
       "      <th>9995</th>\n",
       "      <td>?????? 26</td>\n",
       "      <td>In the early 1980s in India  a group of con ar...</td>\n",
       "      <td>Crime Drama Thriller</td>\n",
       "      <td>In the early 1980s in India  a group of con ar...</td>\n",
       "    </tr>\n",
       "    <tr>\n",
       "      <th>9996</th>\n",
       "      <td>Gigantic</td>\n",
       "      <td>Young mattress salesman Brian decides to adopt...</td>\n",
       "      <td>Comedy Romance</td>\n",
       "      <td>Young mattress salesman Brian decides to adopt...</td>\n",
       "    </tr>\n",
       "    <tr>\n",
       "      <th>9997</th>\n",
       "      <td>The Associate</td>\n",
       "      <td>Laurel Ayres is a businesswoman trying to make...</td>\n",
       "      <td>Comedy</td>\n",
       "      <td>Laurel Ayres is a businesswoman trying to make...</td>\n",
       "    </tr>\n",
       "    <tr>\n",
       "      <th>9998</th>\n",
       "      <td>I due superpiedi quasi piatti</td>\n",
       "      <td>An attempted robbery turns to be an unexpected...</td>\n",
       "      <td>Action Comedy</td>\n",
       "      <td>An attempted robbery turns to be an unexpected...</td>\n",
       "    </tr>\n",
       "    <tr>\n",
       "      <th>9999</th>\n",
       "      <td>The Prophecy 3: The Ascent</td>\n",
       "      <td>The conclusion to The Prophecy Trilogy. Once a...</td>\n",
       "      <td>Fantasy Horror Thriller</td>\n",
       "      <td>The conclusion to The Prophecy Trilogy. Once a...</td>\n",
       "    </tr>\n",
       "  </tbody>\n",
       "</table>\n",
       "<p>10000 rows × 4 columns</p>\n",
       "</div>"
      ],
      "text/plain": [
       "                     original_title  \\\n",
       "0                          Ad Astra   \n",
       "1                         Bloodshot   \n",
       "2                            Scoob!   \n",
       "3                     The Lovebirds   \n",
       "4                 Survive the Night   \n",
       "...                             ...   \n",
       "9995                      ?????? 26   \n",
       "9996                       Gigantic   \n",
       "9997                  The Associate   \n",
       "9998  I due superpiedi quasi piatti   \n",
       "9999     The Prophecy 3: The Ascent   \n",
       "\n",
       "                                               overview  \\\n",
       "0     The near future  a time when both hope and har...   \n",
       "1     After he and his wife are murdered  marine Ray...   \n",
       "2     In Scooby-Doo’s greatest adventure yet  see th...   \n",
       "3     A couple experiences a defining moment in thei...   \n",
       "4     A disgraced doctor and his family are held hos...   \n",
       "...                                                 ...   \n",
       "9995  In the early 1980s in India  a group of con ar...   \n",
       "9996  Young mattress salesman Brian decides to adopt...   \n",
       "9997  Laurel Ayres is a businesswoman trying to make...   \n",
       "9998  An attempted robbery turns to be an unexpected...   \n",
       "9999  The conclusion to The Prophecy Trilogy. Once a...   \n",
       "\n",
       "                                         genres  \\\n",
       "0                         Drama Science Fiction   \n",
       "1                        Action Science Fiction   \n",
       "2     Adventure Animation Comedy Mystery Family   \n",
       "3                         Action Comedy Romance   \n",
       "4                               Action Thriller   \n",
       "...                                         ...   \n",
       "9995                       Crime Drama Thriller   \n",
       "9996                             Comedy Romance   \n",
       "9997                                     Comedy   \n",
       "9998                              Action Comedy   \n",
       "9999                    Fantasy Horror Thriller   \n",
       "\n",
       "                                                   text  \n",
       "0     The near future  a time when both hope and har...  \n",
       "1     After he and his wife are murdered  marine Ray...  \n",
       "2     In Scooby-Doo’s greatest adventure yet  see th...  \n",
       "3     A couple experiences a defining moment in thei...  \n",
       "4     A disgraced doctor and his family are held hos...  \n",
       "...                                                 ...  \n",
       "9995  In the early 1980s in India  a group of con ar...  \n",
       "9996  Young mattress salesman Brian decides to adopt...  \n",
       "9997  Laurel Ayres is a businesswoman trying to make...  \n",
       "9998  An attempted robbery turns to be an unexpected...  \n",
       "9999  The conclusion to The Prophecy Trilogy. Once a...  \n",
       "\n",
       "[10000 rows x 4 columns]"
      ]
     },
     "execution_count": 14,
     "metadata": {},
     "output_type": "execute_result"
    }
   ],
   "source": [
    "df_sel"
   ]
  },
  {
   "cell_type": "markdown",
   "metadata": {},
   "source": [
    "# Data Cleaning"
   ]
  },
  {
   "cell_type": "code",
   "execution_count": 15,
   "metadata": {},
   "outputs": [
    {
     "name": "stderr",
     "output_type": "stream",
     "text": [
      "D:\\Anaconda3\\lib\\site-packages\\ipykernel_launcher.py:1: SettingWithCopyWarning: \n",
      "A value is trying to be set on a copy of a slice from a DataFrame\n",
      "\n",
      "See the caveats in the documentation: https://pandas.pydata.org/pandas-docs/stable/user_guide/indexing.html#returning-a-view-versus-a-copy\n",
      "  \"\"\"Entry point for launching an IPython kernel.\n"
     ]
    }
   ],
   "source": [
    "df_sel.dropna(inplace=True)"
   ]
  },
  {
   "cell_type": "code",
   "execution_count": 16,
   "metadata": {},
   "outputs": [
    {
     "data": {
      "text/plain": [
       "'!\"#$%&\\'()*+,-./:;<=>?@[\\\\]^_`{|}~'"
      ]
     },
     "execution_count": 16,
     "metadata": {},
     "output_type": "execute_result"
    }
   ],
   "source": [
    "punctuation"
   ]
  },
  {
   "cell_type": "code",
   "execution_count": 17,
   "metadata": {},
   "outputs": [],
   "source": [
    "stopwords = set(stopwords.words('english'))"
   ]
  },
  {
   "cell_type": "code",
   "execution_count": 18,
   "metadata": {},
   "outputs": [],
   "source": [
    "text = df_sel['text'].values[0]"
   ]
  },
  {
   "cell_type": "code",
   "execution_count": 19,
   "metadata": {},
   "outputs": [],
   "source": [
    "def clean_text(text):\n",
    "    ctext = ''.join([c for c in text.lower() if c not in punctuation])\n",
    "#     ctext = ' '.join([word for word in ctext.split(' ') if word not in stopwords])\n",
    "#     return \" \".join(ctext.split())\n",
    "    return ctext"
   ]
  },
  {
   "cell_type": "code",
   "execution_count": 20,
   "metadata": {},
   "outputs": [
    {
     "data": {
      "text/plain": [
       "'the near future  a time when both hope and hardships drive humanity to look to the stars and beyond while a mysterious phenomenon menaces to destroy life on planet earth  astronaut roy mcbride undertakes a mission across the immensity of space and its many perils to uncover the truth about a lost expedition that decades before boldly faced emptiness and silence in search of the unknown drama science fiction'"
      ]
     },
     "execution_count": 20,
     "metadata": {},
     "output_type": "execute_result"
    }
   ],
   "source": [
    "clean_text(text)"
   ]
  },
  {
   "cell_type": "code",
   "execution_count": 21,
   "metadata": {},
   "outputs": [
    {
     "name": "stderr",
     "output_type": "stream",
     "text": [
      "D:\\Anaconda3\\lib\\site-packages\\ipykernel_launcher.py:1: SettingWithCopyWarning: \n",
      "A value is trying to be set on a copy of a slice from a DataFrame.\n",
      "Try using .loc[row_indexer,col_indexer] = value instead\n",
      "\n",
      "See the caveats in the documentation: https://pandas.pydata.org/pandas-docs/stable/user_guide/indexing.html#returning-a-view-versus-a-copy\n",
      "  \"\"\"Entry point for launching an IPython kernel.\n"
     ]
    }
   ],
   "source": [
    "df_sel['clean_text'] = df_sel['text'].apply(lambda x: clean_text(x))"
   ]
  },
  {
   "cell_type": "code",
   "execution_count": 22,
   "metadata": {},
   "outputs": [],
   "source": [
    "df_sel = df_sel[['original_title', 'clean_text']]"
   ]
  },
  {
   "cell_type": "code",
   "execution_count": 28,
   "metadata": {},
   "outputs": [
    {
     "name": "stderr",
     "output_type": "stream",
     "text": [
      "D:\\Anaconda3\\lib\\site-packages\\ipykernel_launcher.py:1: SettingWithCopyWarning: \n",
      "A value is trying to be set on a copy of a slice from a DataFrame.\n",
      "Try using .loc[row_indexer,col_indexer] = value instead\n",
      "\n",
      "See the caveats in the documentation: https://pandas.pydata.org/pandas-docs/stable/user_guide/indexing.html#returning-a-view-versus-a-copy\n",
      "  \"\"\"Entry point for launching an IPython kernel.\n",
      "D:\\Anaconda3\\lib\\site-packages\\ipykernel_launcher.py:2: SettingWithCopyWarning: \n",
      "A value is trying to be set on a copy of a slice from a DataFrame.\n",
      "Try using .loc[row_indexer,col_indexer] = value instead\n",
      "\n",
      "See the caveats in the documentation: https://pandas.pydata.org/pandas-docs/stable/user_guide/indexing.html#returning-a-view-versus-a-copy\n",
      "  \n"
     ]
    }
   ],
   "source": [
    "df_sel['original_title'] = df_sel['original_title'].astype('str')\n",
    "df_sel['clean_text'] = df_sel['clean_text'].astype('str')"
   ]
  },
  {
   "cell_type": "code",
   "execution_count": 29,
   "metadata": {},
   "outputs": [
    {
     "name": "stderr",
     "output_type": "stream",
     "text": [
      "D:\\Anaconda3\\lib\\site-packages\\ipykernel_launcher.py:1: SettingWithCopyWarning: \n",
      "A value is trying to be set on a copy of a slice from a DataFrame.\n",
      "Try using .loc[row_indexer,col_indexer] = value instead\n",
      "\n",
      "See the caveats in the documentation: https://pandas.pydata.org/pandas-docs/stable/user_guide/indexing.html#returning-a-view-versus-a-copy\n",
      "  \"\"\"Entry point for launching an IPython kernel.\n"
     ]
    }
   ],
   "source": [
    "df_sel['original_title'] = df_sel['original_title'].apply(lambda x: x.lower())"
   ]
  },
  {
   "cell_type": "code",
   "execution_count": 30,
   "metadata": {},
   "outputs": [
    {
     "data": {
      "text/html": [
       "<div>\n",
       "<style scoped>\n",
       "    .dataframe tbody tr th:only-of-type {\n",
       "        vertical-align: middle;\n",
       "    }\n",
       "\n",
       "    .dataframe tbody tr th {\n",
       "        vertical-align: top;\n",
       "    }\n",
       "\n",
       "    .dataframe thead th {\n",
       "        text-align: right;\n",
       "    }\n",
       "</style>\n",
       "<table border=\"1\" class=\"dataframe\">\n",
       "  <thead>\n",
       "    <tr style=\"text-align: right;\">\n",
       "      <th></th>\n",
       "      <th>original_title</th>\n",
       "      <th>clean_text</th>\n",
       "    </tr>\n",
       "  </thead>\n",
       "  <tbody>\n",
       "    <tr>\n",
       "      <th>0</th>\n",
       "      <td>ad astra</td>\n",
       "      <td>the near future  a time when both hope and har...</td>\n",
       "    </tr>\n",
       "    <tr>\n",
       "      <th>1</th>\n",
       "      <td>bloodshot</td>\n",
       "      <td>after he and his wife are murdered  marine ray...</td>\n",
       "    </tr>\n",
       "  </tbody>\n",
       "</table>\n",
       "</div>"
      ],
      "text/plain": [
       "  original_title                                         clean_text\n",
       "0       ad astra  the near future  a time when both hope and har...\n",
       "1      bloodshot  after he and his wife are murdered  marine ray..."
      ]
     },
     "execution_count": 30,
     "metadata": {},
     "output_type": "execute_result"
    }
   ],
   "source": [
    "df_sel.head(2)"
   ]
  },
  {
   "cell_type": "code",
   "execution_count": 31,
   "metadata": {},
   "outputs": [
    {
     "data": {
      "text/plain": [
       "'after he and his wife are murdered  marine ray garrison is resurrected by a team of scientists enhanced with nanotechnology  he becomes a superhuman  biotech killing machine—bloodshot as ray first trains with fellow supersoldiers  he cannot recall anything from his former life but when his memories flood back and he remembers the man that killed both him and his wife  he breaks out of the facility to get revenge  only to discover that theres more to the conspiracy than he thought action science fiction'"
      ]
     },
     "execution_count": 31,
     "metadata": {},
     "output_type": "execute_result"
    }
   ],
   "source": [
    "df_sel['clean_text'].values[1]"
   ]
  },
  {
   "cell_type": "markdown",
   "metadata": {},
   "source": [
    "# Tf-Idf Transformer"
   ]
  },
  {
   "cell_type": "code",
   "execution_count": 140,
   "metadata": {},
   "outputs": [],
   "source": [
    "tfidf = TfidfVectorizer(analyzer='word', min_df=0, stop_words='english')"
   ]
  },
  {
   "cell_type": "code",
   "execution_count": 141,
   "metadata": {},
   "outputs": [],
   "source": [
    "vec_arr = tfidf.fit_transform(df_sel['clean_text'])"
   ]
  },
  {
   "cell_type": "code",
   "execution_count": 142,
   "metadata": {},
   "outputs": [
    {
     "data": {
      "text/plain": [
       "(9963, 31949)"
      ]
     },
     "execution_count": 142,
     "metadata": {},
     "output_type": "execute_result"
    }
   ],
   "source": [
    "vec_arr.shape"
   ]
  },
  {
   "cell_type": "markdown",
   "metadata": {},
   "source": [
    "# Cosine Similarity"
   ]
  },
  {
   "cell_type": "code",
   "execution_count": 156,
   "metadata": {},
   "outputs": [],
   "source": [
    "sim_mat = cosine_similarity(vec_arr, vec_arr)"
   ]
  },
  {
   "cell_type": "code",
   "execution_count": 157,
   "metadata": {},
   "outputs": [
    {
     "data": {
      "text/plain": [
       "(9963, 9963)"
      ]
     },
     "execution_count": 157,
     "metadata": {},
     "output_type": "execute_result"
    }
   ],
   "source": [
    "sim_mat.shape"
   ]
  },
  {
   "cell_type": "code",
   "execution_count": 190,
   "metadata": {},
   "outputs": [],
   "source": [
    "# smd = smd.reset_index()\n",
    "titles = df_sel['original_title']\n",
    "indices = pd.Series(df_sel.index, index=df_sel['original_title'])"
   ]
  },
  {
   "cell_type": "code",
   "execution_count": 159,
   "metadata": {},
   "outputs": [
    {
     "data": {
      "text/html": [
       "<div>\n",
       "<style scoped>\n",
       "    .dataframe tbody tr th:only-of-type {\n",
       "        vertical-align: middle;\n",
       "    }\n",
       "\n",
       "    .dataframe tbody tr th {\n",
       "        vertical-align: top;\n",
       "    }\n",
       "\n",
       "    .dataframe thead th {\n",
       "        text-align: right;\n",
       "    }\n",
       "</style>\n",
       "<table border=\"1\" class=\"dataframe\">\n",
       "  <thead>\n",
       "    <tr style=\"text-align: right;\">\n",
       "      <th></th>\n",
       "      <th>original_title</th>\n",
       "      <th>clean_text</th>\n",
       "    </tr>\n",
       "  </thead>\n",
       "  <tbody>\n",
       "    <tr>\n",
       "      <th>0</th>\n",
       "      <td>ad astra</td>\n",
       "      <td>the near future  a time when both hope and har...</td>\n",
       "    </tr>\n",
       "  </tbody>\n",
       "</table>\n",
       "</div>"
      ],
      "text/plain": [
       "  original_title                                         clean_text\n",
       "0       ad astra  the near future  a time when both hope and har..."
      ]
     },
     "execution_count": 159,
     "metadata": {},
     "output_type": "execute_result"
    }
   ],
   "source": [
    "df_sel[df_sel['original_title']=='ad astra']"
   ]
  },
  {
   "cell_type": "code",
   "execution_count": 160,
   "metadata": {},
   "outputs": [
    {
     "data": {
      "text/plain": [
       "'deadpool'"
      ]
     },
     "execution_count": 160,
     "metadata": {},
     "output_type": "execute_result"
    }
   ],
   "source": [
    "indices[indices == 100].index[0]"
   ]
  },
  {
   "cell_type": "code",
   "execution_count": 161,
   "metadata": {},
   "outputs": [
    {
     "data": {
      "text/plain": [
       "30"
      ]
     },
     "execution_count": 161,
     "metadata": {},
     "output_type": "execute_result"
    }
   ],
   "source": [
    "indices['the dark knight']"
   ]
  },
  {
   "cell_type": "code",
   "execution_count": 162,
   "metadata": {},
   "outputs": [
    {
     "data": {
      "text/plain": [
       "original_title\n",
       "ad astra                            0\n",
       "bloodshot                           1\n",
       "scoob!                              2\n",
       "the lovebirds                       3\n",
       "survive the night                   4\n",
       "                                 ... \n",
       "?????? 26                        9995\n",
       "gigantic                         9996\n",
       "the associate                    9997\n",
       "i due superpiedi quasi piatti    9998\n",
       "the prophecy 3: the ascent       9999\n",
       "Length: 9963, dtype: int64"
      ]
     },
     "execution_count": 162,
     "metadata": {},
     "output_type": "execute_result"
    }
   ],
   "source": [
    "indices"
   ]
  },
  {
   "cell_type": "code",
   "execution_count": 163,
   "metadata": {},
   "outputs": [
    {
     "data": {
      "text/plain": [
       "array([0.00504064, 0.01469436, 0.02583184, ..., 0.01551424, 0.00990835,\n",
       "       0.        ])"
      ]
     },
     "execution_count": 163,
     "metadata": {},
     "output_type": "execute_result"
    }
   ],
   "source": [
    "sim_mat[100]"
   ]
  },
  {
   "cell_type": "code",
   "execution_count": 164,
   "metadata": {},
   "outputs": [
    {
     "data": {
      "text/plain": [
       "321"
      ]
     },
     "execution_count": 164,
     "metadata": {},
     "output_type": "execute_result"
    }
   ],
   "source": [
    "indices['dunkirk']"
   ]
  },
  {
   "cell_type": "markdown",
   "metadata": {},
   "source": [
    "# Getting a recommendation"
   ]
  },
  {
   "cell_type": "code",
   "execution_count": 221,
   "metadata": {},
   "outputs": [],
   "source": [
    "def get_recommendations(title):\n",
    "    idx = indices[title]\n",
    "    print(idx)\n",
    "    sim_scores = list(enumerate(sim_mat[idx]))\n",
    "    sim_scores = sorted(sim_scores, key=lambda x: x[1], reverse=True)\n",
    "    sim_scores = sim_scores[1:6]\n",
    "    movie_indices = [i[0] for i in sim_scores]\n",
    "    print(sim_scores)\n",
    "    print(movie_indices)\n",
    "    return titles.iloc[movie_indices].values"
   ]
  },
  {
   "cell_type": "code",
   "execution_count": 222,
   "metadata": {},
   "outputs": [
    {
     "name": "stdout",
     "output_type": "stream",
     "text": [
      "9\n",
      "[(8438, 0.3275894920348251), (5952, 0.3107936905092054), (856, 0.2680565804690932), (8213, 0.23596399613181512), (8882, 0.22771704963955441)]\n",
      "[8438, 5952, 856, 8213, 8882]\n"
     ]
    },
    {
     "data": {
      "text/plain": [
       "array(['mediterraneo', 'saints and soldiers', 'we were soldiers',\n",
       "       \"kelly's heroes\", '??????'], dtype=object)"
      ]
     },
     "execution_count": 222,
     "metadata": {},
     "output_type": "execute_result"
    }
   ],
   "source": [
    "get_recommendations('1917'.lower())"
   ]
  },
  {
   "cell_type": "code",
   "execution_count": 167,
   "metadata": {},
   "outputs": [
    {
     "name": "stderr",
     "output_type": "stream",
     "text": [
      "D:\\Anaconda3\\lib\\site-packages\\pandas\\core\\ops\\array_ops.py:253: FutureWarning: elementwise comparison failed; returning scalar instead, but in the future will perform elementwise comparison\n",
      "  res_values = method(rvalues)\n"
     ]
    },
    {
     "data": {
      "text/plain": [
       "Series([], dtype: int64)"
      ]
     },
     "execution_count": 167,
     "metadata": {},
     "output_type": "execute_result"
    }
   ],
   "source": [
    "indices[indices == 'the green mile']"
   ]
  },
  {
   "cell_type": "markdown",
   "metadata": {},
   "source": [
    "# Saving similarity matrix"
   ]
  },
  {
   "cell_type": "code",
   "execution_count": 169,
   "metadata": {},
   "outputs": [],
   "source": [
    "# indices.to_csv('./indices.csv')\n",
    "np.save('./movies_sim_may20.npy', sim_mat)"
   ]
  },
  {
   "cell_type": "code",
   "execution_count": 170,
   "metadata": {},
   "outputs": [],
   "source": [
    "indices.to_frame('index').reset_index().to_csv('./indices_may20.csv')"
   ]
  },
  {
   "cell_type": "code",
   "execution_count": 171,
   "metadata": {},
   "outputs": [],
   "source": [
    "ind_df = indices.to_frame('index').reset_index()"
   ]
  },
  {
   "cell_type": "code",
   "execution_count": 172,
   "metadata": {},
   "outputs": [
    {
     "data": {
      "text/plain": [
       "['two weeks notice', 'the fifth estate', 'runaway jury', 'pathfinder']"
      ]
     },
     "execution_count": 172,
     "metadata": {},
     "output_type": "execute_result"
    }
   ],
   "source": [
    "list(ind_df[ind_df['index'].isin([2342, 2121, 2005, 2217])]['original_title'].values)"
   ]
  },
  {
   "cell_type": "code",
   "execution_count": 194,
   "metadata": {},
   "outputs": [],
   "source": [
    "indices.to_csv('temp.csv')"
   ]
  },
  {
   "cell_type": "code",
   "execution_count": 211,
   "metadata": {},
   "outputs": [
    {
     "data": {
      "text/plain": [
       "(9963, 9963)"
      ]
     },
     "execution_count": 211,
     "metadata": {},
     "output_type": "execute_result"
    }
   ],
   "source": [
    "sim_mat.shape"
   ]
  },
  {
   "cell_type": "code",
   "execution_count": 212,
   "metadata": {},
   "outputs": [
    {
     "data": {
      "text/plain": [
       "(9963,)"
      ]
     },
     "execution_count": 212,
     "metadata": {},
     "output_type": "execute_result"
    }
   ],
   "source": [
    "indices.shape"
   ]
  },
  {
   "cell_type": "code",
   "execution_count": 213,
   "metadata": {},
   "outputs": [
    {
     "data": {
      "text/plain": [
       "(9963, 2)"
      ]
     },
     "execution_count": 213,
     "metadata": {},
     "output_type": "execute_result"
    }
   ],
   "source": [
    "ind_df.shape"
   ]
  },
  {
   "cell_type": "code",
   "execution_count": 214,
   "metadata": {},
   "outputs": [
    {
     "data": {
      "text/html": [
       "<div>\n",
       "<style scoped>\n",
       "    .dataframe tbody tr th:only-of-type {\n",
       "        vertical-align: middle;\n",
       "    }\n",
       "\n",
       "    .dataframe tbody tr th {\n",
       "        vertical-align: top;\n",
       "    }\n",
       "\n",
       "    .dataframe thead th {\n",
       "        text-align: right;\n",
       "    }\n",
       "</style>\n",
       "<table border=\"1\" class=\"dataframe\">\n",
       "  <thead>\n",
       "    <tr style=\"text-align: right;\">\n",
       "      <th></th>\n",
       "      <th>index</th>\n",
       "    </tr>\n",
       "  </thead>\n",
       "  <tbody>\n",
       "    <tr>\n",
       "      <th>count</th>\n",
       "      <td>9963.000000</td>\n",
       "    </tr>\n",
       "    <tr>\n",
       "      <th>mean</th>\n",
       "      <td>5001.107598</td>\n",
       "    </tr>\n",
       "    <tr>\n",
       "      <th>std</th>\n",
       "      <td>2885.835173</td>\n",
       "    </tr>\n",
       "    <tr>\n",
       "      <th>min</th>\n",
       "      <td>0.000000</td>\n",
       "    </tr>\n",
       "    <tr>\n",
       "      <th>25%</th>\n",
       "      <td>2502.500000</td>\n",
       "    </tr>\n",
       "    <tr>\n",
       "      <th>50%</th>\n",
       "      <td>5001.000000</td>\n",
       "    </tr>\n",
       "    <tr>\n",
       "      <th>75%</th>\n",
       "      <td>7499.500000</td>\n",
       "    </tr>\n",
       "    <tr>\n",
       "      <th>max</th>\n",
       "      <td>9999.000000</td>\n",
       "    </tr>\n",
       "  </tbody>\n",
       "</table>\n",
       "</div>"
      ],
      "text/plain": [
       "             index\n",
       "count  9963.000000\n",
       "mean   5001.107598\n",
       "std    2885.835173\n",
       "min       0.000000\n",
       "25%    2502.500000\n",
       "50%    5001.000000\n",
       "75%    7499.500000\n",
       "max    9999.000000"
      ]
     },
     "execution_count": 214,
     "metadata": {},
     "output_type": "execute_result"
    }
   ],
   "source": [
    "ind_df.describe()"
   ]
  },
  {
   "cell_type": "code",
   "execution_count": 215,
   "metadata": {},
   "outputs": [
    {
     "data": {
      "text/plain": [
       "9999"
      ]
     },
     "execution_count": 215,
     "metadata": {},
     "output_type": "execute_result"
    }
   ],
   "source": [
    "max(indices)"
   ]
  },
  {
   "cell_type": "code",
   "execution_count": 216,
   "metadata": {},
   "outputs": [
    {
     "data": {
      "text/html": [
       "<div>\n",
       "<style scoped>\n",
       "    .dataframe tbody tr th:only-of-type {\n",
       "        vertical-align: middle;\n",
       "    }\n",
       "\n",
       "    .dataframe tbody tr th {\n",
       "        vertical-align: top;\n",
       "    }\n",
       "\n",
       "    .dataframe thead th {\n",
       "        text-align: right;\n",
       "    }\n",
       "</style>\n",
       "<table border=\"1\" class=\"dataframe\">\n",
       "  <thead>\n",
       "    <tr style=\"text-align: right;\">\n",
       "      <th></th>\n",
       "      <th>original_title</th>\n",
       "      <th>index</th>\n",
       "    </tr>\n",
       "  </thead>\n",
       "  <tbody>\n",
       "    <tr>\n",
       "      <th>0</th>\n",
       "      <td>ad astra</td>\n",
       "      <td>0</td>\n",
       "    </tr>\n",
       "    <tr>\n",
       "      <th>1</th>\n",
       "      <td>bloodshot</td>\n",
       "      <td>1</td>\n",
       "    </tr>\n",
       "    <tr>\n",
       "      <th>2</th>\n",
       "      <td>scoob!</td>\n",
       "      <td>2</td>\n",
       "    </tr>\n",
       "    <tr>\n",
       "      <th>3</th>\n",
       "      <td>the lovebirds</td>\n",
       "      <td>3</td>\n",
       "    </tr>\n",
       "    <tr>\n",
       "      <th>4</th>\n",
       "      <td>survive the night</td>\n",
       "      <td>4</td>\n",
       "    </tr>\n",
       "    <tr>\n",
       "      <th>...</th>\n",
       "      <td>...</td>\n",
       "      <td>...</td>\n",
       "    </tr>\n",
       "    <tr>\n",
       "      <th>9958</th>\n",
       "      <td>?????? 26</td>\n",
       "      <td>9995</td>\n",
       "    </tr>\n",
       "    <tr>\n",
       "      <th>9959</th>\n",
       "      <td>gigantic</td>\n",
       "      <td>9996</td>\n",
       "    </tr>\n",
       "    <tr>\n",
       "      <th>9960</th>\n",
       "      <td>the associate</td>\n",
       "      <td>9997</td>\n",
       "    </tr>\n",
       "    <tr>\n",
       "      <th>9961</th>\n",
       "      <td>i due superpiedi quasi piatti</td>\n",
       "      <td>9998</td>\n",
       "    </tr>\n",
       "    <tr>\n",
       "      <th>9962</th>\n",
       "      <td>the prophecy 3: the ascent</td>\n",
       "      <td>9999</td>\n",
       "    </tr>\n",
       "  </tbody>\n",
       "</table>\n",
       "<p>9963 rows × 2 columns</p>\n",
       "</div>"
      ],
      "text/plain": [
       "                     original_title  index\n",
       "0                          ad astra      0\n",
       "1                         bloodshot      1\n",
       "2                            scoob!      2\n",
       "3                     the lovebirds      3\n",
       "4                 survive the night      4\n",
       "...                             ...    ...\n",
       "9958                      ?????? 26   9995\n",
       "9959                       gigantic   9996\n",
       "9960                  the associate   9997\n",
       "9961  i due superpiedi quasi piatti   9998\n",
       "9962     the prophecy 3: the ascent   9999\n",
       "\n",
       "[9963 rows x 2 columns]"
      ]
     },
     "execution_count": 216,
     "metadata": {},
     "output_type": "execute_result"
    }
   ],
   "source": [
    "ind_df"
   ]
  },
  {
   "cell_type": "code",
   "execution_count": 217,
   "metadata": {},
   "outputs": [
    {
     "data": {
      "text/plain": [
       "original_title\n",
       "ad astra                            0\n",
       "bloodshot                           1\n",
       "scoob!                              2\n",
       "the lovebirds                       3\n",
       "survive the night                   4\n",
       "                                 ... \n",
       "?????? 26                        9995\n",
       "gigantic                         9996\n",
       "the associate                    9997\n",
       "i due superpiedi quasi piatti    9998\n",
       "the prophecy 3: the ascent       9999\n",
       "Length: 9963, dtype: int64"
      ]
     },
     "execution_count": 217,
     "metadata": {},
     "output_type": "execute_result"
    }
   ],
   "source": [
    "indices"
   ]
  },
  {
   "cell_type": "code",
   "execution_count": 223,
   "metadata": {},
   "outputs": [
    {
     "data": {
      "text/plain": [
       "original_title    we were soldiers\n",
       "index                          862\n",
       "Name: 856, dtype: object"
      ]
     },
     "execution_count": 223,
     "metadata": {},
     "output_type": "execute_result"
    }
   ],
   "source": [
    "ind_df.iloc[856]"
   ]
  },
  {
   "cell_type": "code",
   "execution_count": 224,
   "metadata": {},
   "outputs": [],
   "source": [
    "movie_indices = [8438, 5952, 856, 8213, 8882]"
   ]
  },
  {
   "cell_type": "code",
   "execution_count": 229,
   "metadata": {},
   "outputs": [
    {
     "data": {
      "text/plain": [
       "['mediterraneo',\n",
       " 'saints and soldiers',\n",
       " 'we were soldiers',\n",
       " \"kelly's heroes\",\n",
       " '??????']"
      ]
     },
     "execution_count": 229,
     "metadata": {},
     "output_type": "execute_result"
    }
   ],
   "source": [
    "list(ind_df.loc[movie_indices]['original_title'].values)"
   ]
  },
  {
   "cell_type": "code",
   "execution_count": null,
   "metadata": {},
   "outputs": [],
   "source": []
  }
 ],
 "metadata": {
  "kernelspec": {
   "display_name": "Python 3",
   "language": "python",
   "name": "python3"
  },
  "language_info": {
   "codemirror_mode": {
    "name": "ipython",
    "version": 3
   },
   "file_extension": ".py",
   "mimetype": "text/x-python",
   "name": "python",
   "nbconvert_exporter": "python",
   "pygments_lexer": "ipython3",
   "version": "3.8.3"
  }
 },
 "nbformat": 4,
 "nbformat_minor": 2
}
